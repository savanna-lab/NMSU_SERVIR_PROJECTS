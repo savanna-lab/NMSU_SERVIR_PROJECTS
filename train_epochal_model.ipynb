{
  "nbformat": 4,
  "nbformat_minor": 0,
  "metadata": {
    "colab": {
      "provenance": [],
      "authorship_tag": "ABX9TyMDLgKh7AvKf34994ONz7Gr",
      "include_colab_link": true
    },
    "kernelspec": {
      "name": "python3",
      "display_name": "Python 3"
    },
    "language_info": {
      "name": "python"
    }
  },
  "cells": [
    {
      "cell_type": "markdown",
      "metadata": {
        "id": "view-in-github",
        "colab_type": "text"
      },
      "source": [
        "<a href=\"https://colab.research.google.com/github/savanna-lab/NMSU_SERVIR_PROJECTS/blob/main/train_epochal_model.ipynb\" target=\"_parent\"><img src=\"https://colab.research.google.com/assets/colab-badge.svg\" alt=\"Open In Colab\"/></a>"
      ]
    },
    {
      "cell_type": "code",
      "execution_count": null,
      "metadata": {
        "id": "t3p59RWxh6Lv"
      },
      "outputs": [],
      "source": [
        "# If you get a \"restart runtime\" prompt after installing TF, accept it and re-run from here.\n",
        "!pip -q install pandas==2.2.2 numpy==1.26.4 scikit-learn==1.5.1 \\\n",
        "  tensorflow==2.15.0 tensorflow-decision-forests==1.8.1 \\\n",
        "  gcsfs==2024.6.0 google-cloud-storage==2.17.0 google-cloud-aiplatform==1.66.0\n"
      ]
    }
  ]
}